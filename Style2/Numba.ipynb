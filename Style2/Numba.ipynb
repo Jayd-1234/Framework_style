{
 "cells": [
  {
   "cell_type": "markdown",
   "metadata": {},
   "source": [
    "## Numba\n",
    "\n",
    "This approach aims to use numba to perform seamless integration between GPU and CPU code, with minimal C code conversions. It is obviously limited by how far numba can vectorize the code, but should be possible to provide high speeds with minimal programming effort."
   ]
  },
  {
   "cell_type": "code",
   "execution_count": 19,
   "metadata": {},
   "outputs": [],
   "source": [
    "from numba import vectorize, njit, cuda\n",
    "import numpy as np\n",
    "import math"
   ]
  },
  {
   "cell_type": "code",
   "execution_count": 43,
   "metadata": {},
   "outputs": [],
   "source": [
    "# Returns the Lorentz transformed coordinate tuple. Uses cpu\n",
    "@njit\n",
    "def lorentzTransformation(x, y, z, t, v):\n",
    "    c = 3*(10**8)\n",
    "    rel_vel_op = math.sqrt(1-(v/c)**2)\n",
    "    xt = (x - v*t)/rel_vel_op\n",
    "    yt = y\n",
    "    zt = z\n",
    "    t = t-(v*x/c**2)/rel_vel_op\n",
    "    return [xt, yt, zt, t]\n",
    "\n",
    "# Automatic GPU vectorization (Specifically compilation)\n",
    "@vectorize([\"float32(float32, float32, float32)\"], target='cuda')\n",
    "def gauss_pdf(x, mean=0, stddev=1):\n",
    "    return math.exp(((x-mean)/stddev)**2/2)/(math.sqrt(2*math.pi*stddev**2))\n",
    "\n",
    "#CUDA Access. Relatively raw\n",
    "@cuda.jit\n",
    "def rayleigh_pdf(x, out, sigma=1):\n",
    "    start = cuda.grid(1)          # 1D arrays\n",
    "    strides = cuda.gridsize(1)\n",
    "    for i in range(len(x)):\n",
    "        out[i] = x[i]*math.exp(-(x[i]/sigma)**2/2)/sigma**2"
   ]
  },
  {
   "cell_type": "code",
   "execution_count": 51,
   "metadata": {},
   "outputs": [],
   "source": [
    "x = np.random.randn(40000).astype(np.float32)\n",
    "y = np.random.randn(40000).astype(np.float32)\n",
    "z = np.random.randn(40000).astype(np.float32)\n",
    "t = np.random.randn(40000).astype(np.float32)\n",
    "v = 2.5*10**8\n",
    "x_test = np.arange(100000).astype(np.float32)"
   ]
  },
  {
   "cell_type": "code",
   "execution_count": 52,
   "metadata": {},
   "outputs": [
    {
     "name": "stderr",
     "output_type": "stream",
     "text": [
      "/home/jaydeep/anaconda3/lib/python3.6/site-packages/line_profiler.py:321: UserWarning: Could not extract a code object for the object <numba.cuda.compiler.AutoJitCUDAKernel object at 0x7ff7c115ef98>\n",
      "  profile = LineProfiler(*funcs)\n"
     ]
    }
   ],
   "source": [
    "out = cuda.device_array_like(x_test)\n",
    "%lprun -f rayleigh_pdf rayleigh_pdf(x, out, 1)"
   ]
  },
  {
   "cell_type": "code",
   "execution_count": 47,
   "metadata": {},
   "outputs": [],
   "source": []
  },
  {
   "cell_type": "code",
   "execution_count": null,
   "metadata": {},
   "outputs": [],
   "source": []
  }
 ],
 "metadata": {
  "kernelspec": {
   "display_name": "Python [default]",
   "language": "python",
   "name": "python3"
  },
  "language_info": {
   "codemirror_mode": {
    "name": "ipython",
    "version": 3
   },
   "file_extension": ".py",
   "mimetype": "text/x-python",
   "name": "python",
   "nbconvert_exporter": "python",
   "pygments_lexer": "ipython3",
   "version": "3.6.3"
  }
 },
 "nbformat": 4,
 "nbformat_minor": 2
}
